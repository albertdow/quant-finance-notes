{
 "cells": [
  {
   "cell_type": "markdown",
   "metadata": {},
   "source": [
    "# 1. Preliminaries"
   ]
  },
  {
   "cell_type": "markdown",
   "metadata": {},
   "source": [
    "## 1.1 Interest rates"
   ]
  },
  {
   "cell_type": "markdown",
   "metadata": {},
   "source": [
    "* Invest an amount $\\$N$ at rate $r$ per annum, compounded anually, \n",
    "after $T$ years obtain $\\$N(1+r)^T$. $N$ is the notional or principal.\n",
    "* Invest 1 at $r$ compounded semi-annually, have $(1+r/2)$ after six months\n",
    "and $(1+r/2)^{2T}$ after $T$ years.\n",
    "* If compounded $m$ times per annum, obtain $(1+r/m)^{mT} \\to e^{rT}$ as $m\\to\\infty$.\n",
    "* The fraction $1/m$ is called _accrual factor_."
   ]
  },
  {
   "cell_type": "markdown",
   "metadata": {},
   "source": [
    "## 1.2 Zero coupon bonds and discounting"
   ]
  },
  {
   "cell_type": "markdown",
   "metadata": {},
   "source": [
    "__Zero coupon bond (ZCB)__ with maturity $T$: asset that pays 1 at time T.\n",
    "* Price at time $t$ of a ZCB with maturity $T \\geq t$: $Z(t, T) = e^{-r(T-t)}$.\n",
    "* $Z(t, T)$ is aka discount factor."
   ]
  },
  {
   "cell_type": "markdown",
   "metadata": {},
   "source": [
    "## 1.3 Annuities"
   ]
  },
  {
   "cell_type": "markdown",
   "metadata": {},
   "source": [
    "__Annuity__: series of fixed cashflows $C$ at specified times $T_i, i=1, ..., n$.\n",
    "* Value $V$ at time $t$ is given by $V = C \\sum_{i=1}^n Z(t, T_i)$."
   ]
  },
  {
   "cell_type": "markdown",
   "metadata": {},
   "source": [
    "## 1.5 Stocks, bonds, FX"
   ]
  },
  {
   "cell_type": "markdown",
   "metadata": {},
   "source": [
    "__Stock__ / __share__: \n",
    "* asset giving ownership in a fraction of a company\n",
    "* may pay dividend - a cash payment expressed as a percentage of stock price.\n",
    "* publicly traded with current price called _spot_ price."
   ]
  },
  {
   "cell_type": "markdown",
   "metadata": {},
   "source": [
    "__Fixed rate bond__ with coupon $c$ and principal $N$: asset paying coupon $cN$\n",
    "each year and notional $N$ back at maturity $T$."
   ]
  },
  {
   "cell_type": "markdown",
   "metadata": {},
   "source": [
    "__Foreign currency__: holding of cash in a foreign currency."
   ]
  },
  {
   "cell_type": "markdown",
   "metadata": {},
   "source": [
    "# 2. Forward contracts and forward prices"
   ]
  },
  {
   "cell_type": "markdown",
   "metadata": {},
   "source": [
    "__Derivative__: financial contract between two counterparties whose value \n",
    "is a function of the value of the underlying security.\n",
    "* traded directly _over-the-counter (OTC)_ or _exchange-traded_, where buyers \n",
    "and sellers are matched."
   ]
  },
  {
   "cell_type": "markdown",
   "metadata": {},
   "source": [
    "## 2.2 Forward contracts"
   ]
  },
  {
   "cell_type": "markdown",
   "metadata": {},
   "source": [
    "__Forward__: agreement between two counterparties to trade a specified asset\n",
    "at _maturity_ $T$ at _delivery price_ $K$.\n",
    "* __long__ counterparty buys asset, __short__ sells.\n",
    "* Value $V_K(t, T)$ for being long a forward contract. At time $T$, must pay $K$\n",
    "to buy asset worth $S_T$, so payout is $V_K(T, T) = S_T - K$ (for short, $K-S_T$)."
   ]
  },
  {
   "cell_type": "markdown",
   "metadata": {},
   "source": [
    "## 2.3 Forward on asset paying no income"
   ]
  },
  {
   "cell_type": "markdown",
   "metadata": {},
   "source": [
    "For a non-income paying asset, __forward price__ is given by\n",
    "$$ F(t, T) = S_t e^{r(T-t)}$$\n",
    "\n",
    "Proof by _replication_ - constructing two portfolios that can be demonstrated to \n",
    "have same value at maturity:\n",
    "* Portfolio __A__: one unit of stock; portfolio __B__: long one forward contract +\n",
    "deposit $Ke^{-r(T-t)}$ of cash at rate $r$. \n",
    "* At time $T$: __A__ is worth $S_T$, __B__ is $K$ worth of cash, which is used \n",
    "to buy stock via forward contract, to have net worth of $S_T$. \n",
    "* Since values are same at $T$, and system remained closed (i.e. no money left or entered)\n",
    "their values at $t$ are also the same: $S_t = V_K(t, T) + Ke^{-r(T-t)}$\n",
    "* Forward price $F(t,T)$ is value of $K$, s.t. $V_K(t, T)=0$, so $S_t = F(t,T)e^{-r(T-t)}$."
   ]
  },
  {
   "cell_type": "markdown",
   "metadata": {},
   "source": [
    "Proof by _no-arbitrage_ - 'no free money' theory:\n",
    "* We assume equality doesn't hold, and show that a positive portfolio can be created\n",
    "with an initial investment of zero value.\n",
    "* Suppose $F(t, T) > S_t e^{r(T-t)}$. \n",
    "* At time $t$, execute following three transactions:\n",
    "    * short one forward contract at forward price $F(t,T)$\n",
    "    * borrow $S_t$ amount of cash at interest rate $r$ for time $T-t$\n",
    "    * buy the stock at value S_t (with borrowed cash).\n",
    "* At maturity $T$:\n",
    "    * must sell stock for $F(t, T)$ according to forward contract\n",
    "    * pay back loan of value $S_t e^{r(T-t)}$.\n",
    "* Amount of cash obtained is $F(t, T) - S_t e^{r(T-t)} > 0$: made profit with an empty \n",
    "portfolio!!\n",
    "\n",
    "Apply same argument to case of $F(t, T) < S_t e^{r(T-t)}$, where go long, sell stock \n",
    "and deposit the proceeds for time $T-t$. Similar conclusion: make money for free!\n",
    "\n",
    "Therefore, under no-arbitrage, $F(t, T) = S_t e^{r(T-t)}$."
   ]
  },
  {
   "cell_type": "markdown",
   "metadata": {},
   "source": [
    "## 2.4 Forward on asset paying known income"
   ]
  },
  {
   "cell_type": "markdown",
   "metadata": {},
   "source": [
    "For asset that pays known amount of income during the life of forward contract,\n",
    "with present income $I$ at time $t$:\n",
    "\n",
    "$$F(t, T) = (S_t - I) e^{r(T-t)}$$"
   ]
  },
  {
   "cell_type": "markdown",
   "metadata": {},
   "source": [
    "## 2.5 Assumptions"
   ]
  },
  {
   "cell_type": "markdown",
   "metadata": {},
   "source": [
    "1. Borrow or lend money freely at rate $r$: in practice, offered rate $r_\\mathrm{OFF}$\n",
    "and bid rate $r_\\mathrm{BID}$, with $r_\\mathrm{BID} \\leq r_\\mathrm{OFF}$.\n",
    "2. Liquid and deep market, i.e. can buy or sell as much as we want, \n",
    "and does not move price.\n",
    "3. Can short sell assets.\n",
    "4. People always want to exploit arbitrage in order to obtain 'free money'."
   ]
  },
  {
   "cell_type": "markdown",
   "metadata": {},
   "source": [
    "## 2.6 Value of forward contract"
   ]
  },
  {
   "cell_type": "markdown",
   "metadata": {},
   "source": [
    "Difference between forward price and delivery price discounted back to today is\n",
    "$$ V_K(t, T) = (F(t, T) - K) e^{-r(T-t)}$$"
   ]
  },
  {
   "cell_type": "markdown",
   "metadata": {},
   "source": [
    "## 2.7 Forward on dividend paying stock and on currency"
   ]
  },
  {
   "cell_type": "markdown",
   "metadata": {},
   "source": [
    "For stock paying dividend yield $q$ (continuously compounded per annum), \n",
    "forward price is $$ F(t, T) = S_t e^{(r-q)(T-t)}\\ .$$\n",
    "\n",
    "Presence of dividends lowers forward price, so there is an advantage to buying \n",
    "asset spot versus buying it forward."
   ]
  },
  {
   "cell_type": "markdown",
   "metadata": {},
   "source": [
    "Let $X_t$ be price at time $t$ in dollars of one unit of foreign currency, \n",
    "$r_\\$ $ be the dollar zero rate and $r_f$ the foreign zero rate, both constant and \n",
    "continuously compounded. Forward price is \n",
    "$$ F(t, T) = X_t e^{(r_\\$-r_f)(T-t)}\\ .$$"
   ]
  },
  {
   "cell_type": "markdown",
   "metadata": {},
   "source": [
    "# 3. Forward rates and libor"
   ]
  },
  {
   "cell_type": "markdown",
   "metadata": {},
   "source": [
    "Apply the forward contract machinery to the case of a ZCB underlying asset."
   ]
  },
  {
   "cell_type": "markdown",
   "metadata": {},
   "source": [
    "## 3.1 Forward zero coupon bond price"
   ]
  },
  {
   "cell_type": "markdown",
   "metadata": {},
   "source": [
    "Consider forward contract with maturity $T_1$ on a ZCB with maturity $T_2$. \n",
    "Underlying security price is $Z(t, T_2)$, as opposed to $S_t$. \n",
    "\n",
    "Forward price is \n",
    "$$ F(t, T_1, T_2) = \\frac{Z(t, T_2)}{Z(t, T_1)} \\ .$$"
   ]
  },
  {
   "cell_type": "markdown",
   "metadata": {},
   "source": [
    "## 3.2 Forward interest rates"
   ]
  },
  {
   "cell_type": "markdown",
   "metadata": {},
   "source": [
    "__Forward rate__, $f_{12}$, at time $t$ for period $T_1$ to $T_2$: rate agreed at $t$\n",
    "at which one can borrow or lend money from $T_1$ to $T_2$. \n",
    "\n",
    "![Forward and zero rate](/Users/albertdow/Documents/Local/quant-notes/Figures/rates.png)"
   ]
  },
  {
   "cell_type": "markdown",
   "metadata": {},
   "source": [
    "Forward rate satifies:\n",
    "\n",
    "$$ e^{r_1(T_1 - t)} e^{f_{12}(T_2-T_1)} = e^{r_2(T_2-t)} $$\n",
    "\n",
    "$$ f_{12} = \\frac{r_2 (T_2-t) - r_1 (T_1 - t)}{T_2 - T_1} \\ .$$\n",
    "\n"
   ]
  },
  {
   "cell_type": "markdown",
   "metadata": {},
   "source": []
  },
  {
   "cell_type": "markdown",
   "metadata": {},
   "source": []
  },
  {
   "cell_type": "markdown",
   "metadata": {},
   "source": []
  },
  {
   "cell_type": "markdown",
   "metadata": {},
   "source": []
  },
  {
   "cell_type": "markdown",
   "metadata": {},
   "source": []
  },
  {
   "cell_type": "markdown",
   "metadata": {},
   "source": []
  },
  {
   "cell_type": "markdown",
   "metadata": {},
   "source": []
  },
  {
   "cell_type": "markdown",
   "metadata": {},
   "source": []
  },
  {
   "cell_type": "markdown",
   "metadata": {},
   "source": []
  }
 ],
 "metadata": {
  "kernelspec": {
   "display_name": "Python 3",
   "language": "python",
   "name": "python3"
  },
  "language_info": {
   "codemirror_mode": {
    "name": "ipython",
    "version": 3
   },
   "file_extension": ".py",
   "mimetype": "text/x-python",
   "name": "python",
   "nbconvert_exporter": "python",
   "pygments_lexer": "ipython3",
   "version": "3.7.2"
  }
 },
 "nbformat": 4,
 "nbformat_minor": 4
}
